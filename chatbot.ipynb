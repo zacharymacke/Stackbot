{
 "cells": [
  {
   "cell_type": "code",
   "execution_count": 4,
   "metadata": {},
   "outputs": [
    {
     "name": "stdout",
     "output_type": "stream",
     "text": [
      "[nltk_data] Downloading package punkt to /home/zachmacke/nltk_data...\n",
      "[nltk_data]   Package punkt is already up-to-date!\n"
     ]
    }
   ],
   "source": [
    "from gensim.models.doc2vec import TaggedDocument, Doc2Vec\n",
    "from nltk.tokenize import word_tokenize \n",
    "import gensim\n",
    "import pandas as pd\n",
    "from nltk.stem import PorterStemmer\n",
    "from nltk.tokenize import sent_tokenize, word_tokenize\n",
    "import nltk\n",
    "from bs4 import BeautifulSoup\n",
    "nltk.download('punkt')\n",
    "ps = PorterStemmer()"
   ]
  },
  {
   "cell_type": "code",
   "execution_count": 5,
   "metadata": {},
   "outputs": [],
   "source": [
    "def prep_data():\n",
    "    \"\"\"\n",
    "    Loads the data and reads it into dataframes. \n",
    "    \n",
    "    Returns:\n",
    "        questions, answers (pandas Dataframe): question and answers in seperate dataframes\n",
    "        \n",
    "    \"\"\"\n",
    "    data0 = pd.read_csv('python_questions0.csv')\n",
    "    data1 = pd.read_csv('python_questions1.csv')\n",
    "    data2 = pd.read_csv('python_questions2.csv')\n",
    "    data3 = pd.read_csv('python_questions3.csv')\n",
    "\n",
    "    data = pd.concat([data0,data1,data2,data3], ignore_index=False)\n",
    "    \n",
    "    questions = data[['question_id','question_title']].drop_duplicates('question_id')\n",
    "    answers = data[['parent_id','answer','answer_score']] \n",
    "    \n",
    "    return (questions,answers)"
   ]
  },
  {
   "cell_type": "code",
   "execution_count": 6,
   "metadata": {},
   "outputs": [],
   "source": [
    "df_questions, df_answers = prep_data()"
   ]
  },
  {
   "cell_type": "code",
   "execution_count": 7,
   "metadata": {},
   "outputs": [],
   "source": [
    "def tag_questions(df):\n",
    "    \"\"\"Tokenize, tag, and stem sentences\n",
    "    \n",
    "    Args:\n",
    "        df (pandas Dataframe): pre-tagged dataframe to iterate through\n",
    "    \n",
    "    Returns:\n",
    "        tagged_sents (list): a list of tokenized sentances\n",
    "    \n",
    "    \"\"\"\n",
    "    taged_sents = []\n",
    "\n",
    "    for sent in range(df_questions.shape[0]):\n",
    "\n",
    "        title = df_questions.iloc[sent]['question_title']\n",
    "        q_id = df_questions.iloc[sent]['question_id']\n",
    "\n",
    "        words = [ps.stem(word) for word in nltk.word_tokenize(title.lower())]\n",
    "\n",
    "        documents = gensim.models.doc2vec.TaggedDocument(words, [str(q_id)])\n",
    "\n",
    "        taged_sents.append(documents)\n",
    "        \n",
    "        if sent % 10000 == 0:\n",
    "            print(sent)\n",
    "        \n",
    "    return (taged_sents)"
   ]
  },
  {
   "cell_type": "code",
   "execution_count": 79,
   "metadata": {
    "collapsed": true
   },
   "outputs": [
    {
     "name": "stdout",
     "output_type": "stream",
     "text": [
      "0\n"
     ]
    },
    {
     "ename": "KeyboardInterrupt",
     "evalue": "",
     "output_type": "error",
     "traceback": [
      "\u001b[0;31m---------------------------------------------------------------------------\u001b[0m",
      "\u001b[0;31mKeyboardInterrupt\u001b[0m                         Traceback (most recent call last)",
      "\u001b[0;32m<ipython-input-79-7069dc4cc64d>\u001b[0m in \u001b[0;36m<module>\u001b[0;34m()\u001b[0m\n\u001b[0;32m----> 1\u001b[0;31m \u001b[0mtagged_docs\u001b[0m \u001b[0;34m=\u001b[0m \u001b[0mtag_questions\u001b[0m\u001b[0;34m(\u001b[0m\u001b[0mdf_questions\u001b[0m\u001b[0;34m)\u001b[0m\u001b[0;34m\u001b[0m\u001b[0m\n\u001b[0m",
      "\u001b[0;32m<ipython-input-78-5de5d05f8571>\u001b[0m in \u001b[0;36mtag_questions\u001b[0;34m(df)\u001b[0m\n\u001b[1;32m      5\u001b[0m     \u001b[0;32mfor\u001b[0m \u001b[0msent\u001b[0m \u001b[0;32min\u001b[0m \u001b[0mrange\u001b[0m\u001b[0;34m(\u001b[0m\u001b[0mdf_questions\u001b[0m\u001b[0;34m.\u001b[0m\u001b[0mshape\u001b[0m\u001b[0;34m[\u001b[0m\u001b[0;36m0\u001b[0m\u001b[0;34m]\u001b[0m\u001b[0;34m)\u001b[0m\u001b[0;34m:\u001b[0m\u001b[0;34m\u001b[0m\u001b[0m\n\u001b[1;32m      6\u001b[0m \u001b[0;34m\u001b[0m\u001b[0m\n\u001b[0;32m----> 7\u001b[0;31m         \u001b[0mtitle\u001b[0m \u001b[0;34m=\u001b[0m \u001b[0mdf_questions\u001b[0m\u001b[0;34m.\u001b[0m\u001b[0miloc\u001b[0m\u001b[0;34m[\u001b[0m\u001b[0msent\u001b[0m\u001b[0;34m]\u001b[0m\u001b[0;34m[\u001b[0m\u001b[0;34m'question_title'\u001b[0m\u001b[0;34m]\u001b[0m\u001b[0;34m\u001b[0m\u001b[0m\n\u001b[0m\u001b[1;32m      8\u001b[0m         \u001b[0mq_id\u001b[0m \u001b[0;34m=\u001b[0m \u001b[0mdf_questions\u001b[0m\u001b[0;34m.\u001b[0m\u001b[0miloc\u001b[0m\u001b[0;34m[\u001b[0m\u001b[0msent\u001b[0m\u001b[0;34m]\u001b[0m\u001b[0;34m[\u001b[0m\u001b[0;34m'question_id'\u001b[0m\u001b[0;34m]\u001b[0m\u001b[0;34m\u001b[0m\u001b[0m\n\u001b[1;32m      9\u001b[0m \u001b[0;34m\u001b[0m\u001b[0m\n",
      "\u001b[0;32m~/anaconda3/envs/env/lib/python3.6/site-packages/pandas/core/indexing.py\u001b[0m in \u001b[0;36m__getitem__\u001b[0;34m(self, key)\u001b[0m\n\u001b[1;32m   1476\u001b[0m \u001b[0;34m\u001b[0m\u001b[0m\n\u001b[1;32m   1477\u001b[0m             \u001b[0mmaybe_callable\u001b[0m \u001b[0;34m=\u001b[0m \u001b[0mcom\u001b[0m\u001b[0;34m.\u001b[0m\u001b[0m_apply_if_callable\u001b[0m\u001b[0;34m(\u001b[0m\u001b[0mkey\u001b[0m\u001b[0;34m,\u001b[0m \u001b[0mself\u001b[0m\u001b[0;34m.\u001b[0m\u001b[0mobj\u001b[0m\u001b[0;34m)\u001b[0m\u001b[0;34m\u001b[0m\u001b[0m\n\u001b[0;32m-> 1478\u001b[0;31m             \u001b[0;32mreturn\u001b[0m \u001b[0mself\u001b[0m\u001b[0;34m.\u001b[0m\u001b[0m_getitem_axis\u001b[0m\u001b[0;34m(\u001b[0m\u001b[0mmaybe_callable\u001b[0m\u001b[0;34m,\u001b[0m \u001b[0maxis\u001b[0m\u001b[0;34m=\u001b[0m\u001b[0maxis\u001b[0m\u001b[0;34m)\u001b[0m\u001b[0;34m\u001b[0m\u001b[0m\n\u001b[0m\u001b[1;32m   1479\u001b[0m \u001b[0;34m\u001b[0m\u001b[0m\n\u001b[1;32m   1480\u001b[0m     \u001b[0;32mdef\u001b[0m \u001b[0m_is_scalar_access\u001b[0m\u001b[0;34m(\u001b[0m\u001b[0mself\u001b[0m\u001b[0;34m,\u001b[0m \u001b[0mkey\u001b[0m\u001b[0;34m)\u001b[0m\u001b[0;34m:\u001b[0m\u001b[0;34m\u001b[0m\u001b[0m\n",
      "\u001b[0;32m~/anaconda3/envs/env/lib/python3.6/site-packages/pandas/core/indexing.py\u001b[0m in \u001b[0;36m_getitem_axis\u001b[0;34m(self, key, axis)\u001b[0m\n\u001b[1;32m   2102\u001b[0m             \u001b[0mself\u001b[0m\u001b[0;34m.\u001b[0m\u001b[0m_validate_integer\u001b[0m\u001b[0;34m(\u001b[0m\u001b[0mkey\u001b[0m\u001b[0;34m,\u001b[0m \u001b[0maxis\u001b[0m\u001b[0;34m)\u001b[0m\u001b[0;34m\u001b[0m\u001b[0m\n\u001b[1;32m   2103\u001b[0m \u001b[0;34m\u001b[0m\u001b[0m\n\u001b[0;32m-> 2104\u001b[0;31m             \u001b[0;32mreturn\u001b[0m \u001b[0mself\u001b[0m\u001b[0;34m.\u001b[0m\u001b[0m_get_loc\u001b[0m\u001b[0;34m(\u001b[0m\u001b[0mkey\u001b[0m\u001b[0;34m,\u001b[0m \u001b[0maxis\u001b[0m\u001b[0;34m=\u001b[0m\u001b[0maxis\u001b[0m\u001b[0;34m)\u001b[0m\u001b[0;34m\u001b[0m\u001b[0m\n\u001b[0m\u001b[1;32m   2105\u001b[0m \u001b[0;34m\u001b[0m\u001b[0m\n\u001b[1;32m   2106\u001b[0m     \u001b[0;32mdef\u001b[0m \u001b[0m_convert_to_indexer\u001b[0m\u001b[0;34m(\u001b[0m\u001b[0mself\u001b[0m\u001b[0;34m,\u001b[0m \u001b[0mobj\u001b[0m\u001b[0;34m,\u001b[0m \u001b[0maxis\u001b[0m\u001b[0;34m=\u001b[0m\u001b[0;32mNone\u001b[0m\u001b[0;34m,\u001b[0m \u001b[0mis_setter\u001b[0m\u001b[0;34m=\u001b[0m\u001b[0;32mFalse\u001b[0m\u001b[0;34m)\u001b[0m\u001b[0;34m:\u001b[0m\u001b[0;34m\u001b[0m\u001b[0m\n",
      "\u001b[0;32m~/anaconda3/envs/env/lib/python3.6/site-packages/pandas/core/indexing.py\u001b[0m in \u001b[0;36m_get_loc\u001b[0;34m(self, key, axis)\u001b[0m\n\u001b[1;32m    143\u001b[0m         \u001b[0;32mif\u001b[0m \u001b[0maxis\u001b[0m \u001b[0;32mis\u001b[0m \u001b[0;32mNone\u001b[0m\u001b[0;34m:\u001b[0m\u001b[0;34m\u001b[0m\u001b[0m\n\u001b[1;32m    144\u001b[0m             \u001b[0maxis\u001b[0m \u001b[0;34m=\u001b[0m \u001b[0mself\u001b[0m\u001b[0;34m.\u001b[0m\u001b[0maxis\u001b[0m\u001b[0;34m\u001b[0m\u001b[0m\n\u001b[0;32m--> 145\u001b[0;31m         \u001b[0;32mreturn\u001b[0m \u001b[0mself\u001b[0m\u001b[0;34m.\u001b[0m\u001b[0mobj\u001b[0m\u001b[0;34m.\u001b[0m\u001b[0m_ixs\u001b[0m\u001b[0;34m(\u001b[0m\u001b[0mkey\u001b[0m\u001b[0;34m,\u001b[0m \u001b[0maxis\u001b[0m\u001b[0;34m=\u001b[0m\u001b[0maxis\u001b[0m\u001b[0;34m)\u001b[0m\u001b[0;34m\u001b[0m\u001b[0m\n\u001b[0m\u001b[1;32m    146\u001b[0m \u001b[0;34m\u001b[0m\u001b[0m\n\u001b[1;32m    147\u001b[0m     \u001b[0;32mdef\u001b[0m \u001b[0m_slice\u001b[0m\u001b[0;34m(\u001b[0m\u001b[0mself\u001b[0m\u001b[0;34m,\u001b[0m \u001b[0mobj\u001b[0m\u001b[0;34m,\u001b[0m \u001b[0maxis\u001b[0m\u001b[0;34m=\u001b[0m\u001b[0;32mNone\u001b[0m\u001b[0;34m,\u001b[0m \u001b[0mkind\u001b[0m\u001b[0;34m=\u001b[0m\u001b[0;32mNone\u001b[0m\u001b[0;34m)\u001b[0m\u001b[0;34m:\u001b[0m\u001b[0;34m\u001b[0m\u001b[0m\n",
      "\u001b[0;32m~/anaconda3/envs/env/lib/python3.6/site-packages/pandas/core/frame.py\u001b[0m in \u001b[0;36m_ixs\u001b[0;34m(self, i, axis)\u001b[0m\n\u001b[1;32m   2624\u001b[0m                                                       \u001b[0mindex\u001b[0m\u001b[0;34m=\u001b[0m\u001b[0mself\u001b[0m\u001b[0;34m.\u001b[0m\u001b[0mcolumns\u001b[0m\u001b[0;34m,\u001b[0m\u001b[0;34m\u001b[0m\u001b[0m\n\u001b[1;32m   2625\u001b[0m                                                       \u001b[0mname\u001b[0m\u001b[0;34m=\u001b[0m\u001b[0mself\u001b[0m\u001b[0;34m.\u001b[0m\u001b[0mindex\u001b[0m\u001b[0;34m[\u001b[0m\u001b[0mi\u001b[0m\u001b[0;34m]\u001b[0m\u001b[0;34m,\u001b[0m\u001b[0;34m\u001b[0m\u001b[0m\n\u001b[0;32m-> 2626\u001b[0;31m                                                       dtype=new_values.dtype)\n\u001b[0m\u001b[1;32m   2627\u001b[0m                 \u001b[0mresult\u001b[0m\u001b[0;34m.\u001b[0m\u001b[0m_set_is_copy\u001b[0m\u001b[0;34m(\u001b[0m\u001b[0mself\u001b[0m\u001b[0;34m,\u001b[0m \u001b[0mcopy\u001b[0m\u001b[0;34m=\u001b[0m\u001b[0mcopy\u001b[0m\u001b[0;34m)\u001b[0m\u001b[0;34m\u001b[0m\u001b[0m\n\u001b[1;32m   2628\u001b[0m                 \u001b[0;32mreturn\u001b[0m \u001b[0mresult\u001b[0m\u001b[0;34m\u001b[0m\u001b[0m\n",
      "\u001b[0;32m~/anaconda3/envs/env/lib/python3.6/site-packages/pandas/core/series.py\u001b[0m in \u001b[0;36m__init__\u001b[0;34m(self, data, index, dtype, name, copy, fastpath)\u001b[0m\n\u001b[1;32m    273\u001b[0m             \u001b[0;32melse\u001b[0m\u001b[0;34m:\u001b[0m\u001b[0;34m\u001b[0m\u001b[0m\n\u001b[1;32m    274\u001b[0m                 data = _sanitize_array(data, index, dtype, copy,\n\u001b[0;32m--> 275\u001b[0;31m                                        raise_cast_failure=True)\n\u001b[0m\u001b[1;32m    276\u001b[0m \u001b[0;34m\u001b[0m\u001b[0m\n\u001b[1;32m    277\u001b[0m                 \u001b[0mdata\u001b[0m \u001b[0;34m=\u001b[0m \u001b[0mSingleBlockManager\u001b[0m\u001b[0;34m(\u001b[0m\u001b[0mdata\u001b[0m\u001b[0;34m,\u001b[0m \u001b[0mindex\u001b[0m\u001b[0;34m,\u001b[0m \u001b[0mfastpath\u001b[0m\u001b[0;34m=\u001b[0m\u001b[0;32mTrue\u001b[0m\u001b[0;34m)\u001b[0m\u001b[0;34m\u001b[0m\u001b[0m\n",
      "\u001b[0;32m~/anaconda3/envs/env/lib/python3.6/site-packages/pandas/core/series.py\u001b[0m in \u001b[0;36m_sanitize_array\u001b[0;34m(data, index, dtype, copy, raise_cast_failure)\u001b[0m\n\u001b[1;32m   4034\u001b[0m             \u001b[0mdata\u001b[0m \u001b[0;34m=\u001b[0m \u001b[0mdata\u001b[0m\u001b[0;34m.\u001b[0m\u001b[0mcopy\u001b[0m\u001b[0;34m(\u001b[0m\u001b[0;34m)\u001b[0m\u001b[0;34m\u001b[0m\u001b[0m\n\u001b[1;32m   4035\u001b[0m \u001b[0;34m\u001b[0m\u001b[0m\n\u001b[0;32m-> 4036\u001b[0;31m     \u001b[0;32mdef\u001b[0m \u001b[0m_try_cast\u001b[0m\u001b[0;34m(\u001b[0m\u001b[0marr\u001b[0m\u001b[0;34m,\u001b[0m \u001b[0mtake_fast_path\u001b[0m\u001b[0;34m)\u001b[0m\u001b[0;34m:\u001b[0m\u001b[0;34m\u001b[0m\u001b[0m\n\u001b[0m\u001b[1;32m   4037\u001b[0m \u001b[0;34m\u001b[0m\u001b[0m\n\u001b[1;32m   4038\u001b[0m         \u001b[0;31m# perf shortcut as this is the most common case\u001b[0m\u001b[0;34m\u001b[0m\u001b[0;34m\u001b[0m\u001b[0m\n",
      "\u001b[0;31mKeyboardInterrupt\u001b[0m: "
     ]
    }
   ],
   "source": [
    "tagged_docs = tag_questions(df_questions)"
   ]
  },
  {
   "cell_type": "code",
   "execution_count": 47,
   "metadata": {
    "collapsed": true
   },
   "outputs": [
    {
     "name": "stdout",
     "output_type": "stream",
     "text": [
      "iteration 0\n",
      "iteration 1\n",
      "iteration 2\n",
      "iteration 3\n",
      "iteration 4\n",
      "iteration 5\n",
      "iteration 6\n",
      "iteration 7\n",
      "iteration 8\n",
      "iteration 9\n",
      "iteration 10\n",
      "iteration 11\n",
      "iteration 12\n",
      "iteration 13\n",
      "iteration 14\n",
      "iteration 15\n",
      "iteration 16\n",
      "iteration 17\n",
      "iteration 18\n",
      "iteration 19\n",
      "iteration 20\n",
      "iteration 21\n",
      "iteration 22\n",
      "iteration 23\n",
      "iteration 24\n",
      "iteration 25\n",
      "iteration 26\n",
      "iteration 27\n",
      "iteration 28\n",
      "iteration 29\n",
      "iteration 30\n",
      "iteration 31\n",
      "iteration 32\n",
      "iteration 33\n",
      "iteration 34\n",
      "iteration 35\n",
      "iteration 36\n",
      "iteration 37\n",
      "iteration 38\n",
      "iteration 39\n"
     ]
    }
   ],
   "source": [
    "def train_model():\n",
    "    \"\"\"\n",
    "    Train the model on a certain set of values and save the model for later \n",
    "    \"\"\"\n",
    "    vec_size = 100\n",
    "    alpha = 0.025\n",
    "\n",
    "    print_every_n = 1\n",
    "\n",
    "    model = Doc2Vec(vector_size=vec_size,dm=0, alpha=alpha, min_alpha=alpha, min_count=0, workers = 4)\n",
    "    model.build_vocab(tagged_docs)\n",
    "\n",
    "    for epoch in range(40):\n",
    "\n",
    "        if epoch % print_every_n == 0:       \n",
    "            print('iteration {0}'.format(epoch))\n",
    "\n",
    "        model.train(tagged_docs,\n",
    "                total_examples=len(tagged_docs),\n",
    "                epochs=1)\n",
    "\n",
    "        if model.alpha > 0.001:\n",
    "            model.alpha -= 0.0002\n",
    "            model.min_alpha = model.alpha\n",
    "\n",
    "    model.save('trained_model')"
   ]
  },
  {
   "cell_type": "code",
   "execution_count": 8,
   "metadata": {},
   "outputs": [],
   "source": [
    "model = Doc2Vec.load('trained_model')"
   ]
  },
  {
   "cell_type": "code",
   "execution_count": 9,
   "metadata": {},
   "outputs": [],
   "source": [
    "# reset the index of our dataframes \n",
    "df_questions_qid_index = df_questions.set_index('question_id') \n",
    "df_answers_parent_index = df_answers.set_index('parent_id') "
   ]
  },
  {
   "cell_type": "code",
   "execution_count": null,
   "metadata": {},
   "outputs": [],
   "source": [
    "def find_similar(user_input):\n",
    "    \"\"\"\n",
    "    Finds the most similar vectors to those in our training set\n",
    "    \n",
    "    Args:\n",
    "        user_input (string): the user's question\n",
    "        \n",
    "    Returns\n",
    "        ques[:9] (list splice): the top 9 closest matching questions to the user input\n",
    "    \"\"\"\n",
    "    \n",
    "    ques = [] \n",
    "    s = set()\n",
    "    \n",
    "    for i in range(20):\n",
    "        tokens = user_input.split()\n",
    "        stem_token = [ps.stem(word) for word in tokens]\n",
    "        \n",
    "        new_vector = model.infer_vector(stem_token,steps=4000)\n",
    "        \n",
    "        sims = model.docvecs.most_similar([new_vector])\n",
    "        for i in sims:\n",
    "            if i[0] not in s:\n",
    "                ques.append(((df_questions_qid_index.loc[int(i[0])]['question_title']),i[0],i[1]))\n",
    "                s.add(i[0])\n",
    "                \n",
    "    ques.sort(key=lambda x: x[1])            \n",
    "    \n",
    "    return(ques[:9])"
   ]
  },
  {
   "cell_type": "code",
   "execution_count": null,
   "metadata": {},
   "outputs": [],
   "source": [
    "def start_bot():\n",
    "   \"\"\"\n",
    "   Initialize the chatbot\n",
    "   \"\"\" \n",
    "    while(True):\n",
    "\n",
    "        print(\"\\nPlease input question:\\n\")\n",
    "        question = input()\n",
    "        if question == 'q':\n",
    "            break\n",
    "\n",
    "        answers= find_similar(question)\n",
    "\n",
    "        def get_answer():\n",
    "            \"\"\"\n",
    "            Create the user interface and use the parent id each question to get the corresponding asnwer\n",
    "            \"\"\"\n",
    "            print(\"\\nWhich answer would you like to see?  \") \n",
    "            print('-'*35) \n",
    "\n",
    "            for x in range(len(answers)):\n",
    "                print(str(x + 1) + '. ' + str(answers[x][0]))\n",
    "            print('-'*35) \n",
    "\n",
    "            print(\"Input a number (1-9): \")\n",
    "            chosen_answer = (int(input()) - 1)\n",
    "\n",
    "            print('\\nHere is your answer: ')\n",
    "            print('-'*35) \n",
    "            ans = df_answers[df_answers['parent_id'] == int(answers[chosen_answer][1])]\n",
    "            max_score = ans['answer_score'].idxmax()\n",
    "            tagged_answer = (ans.loc[max_score]['answer'])\n",
    "            clean_answer = BeautifulSoup(tagged_answer).get_text()\n",
    "            print(clean_answer)\n",
    "\n",
    "        get_answer()\n",
    "\n",
    "        while(True):\n",
    "            print(\"Would you list to see the list again? (y/n): \")\n",
    "            y_n = input()\n",
    "            if (y_n == 'y'):\n",
    "                get_answer()\n",
    "            else:\n",
    "                break"
   ]
  },
  {
   "cell_type": "code",
   "execution_count": null,
   "metadata": {
    "scrolled": false
   },
   "outputs": [
    {
     "name": "stdout",
     "output_type": "stream",
     "text": [
      "\n",
      "Please input question:\n",
      "\n",
      "list comprehensions in python\n",
      "\n",
      "Which answer would you like to see?  \n",
      "-----------------------------------\n",
      "1. List comprehensions in python\n",
      "2. Cross-list comprehension in Python\n",
      "3. List comprehension python\n",
      "4. Python list append\n",
      "5. Capture-and-yield in a list comprehension\n",
      "6. List comprehension with if-condition\n",
      "7. List Comprehension in Python\n",
      "8. List Comprehension Syntax\n",
      "9. Python list of lists\n",
      "-----------------------------------\n",
      "Input a number (1-9): \n",
      "3\n",
      "\n",
      "Here is your answer: \n",
      "-----------------------------------\n",
      "A list comprehension is used to take an existing sequence and perform some function and/or filter to it, resulting in a new list. So, in this case a list comprehension is not appropriate since you don't have a starting sequence. An example with a while loop:\n",
      "\n",
      "numbers = []\n",
      "x=input()\n",
      "while x != 1:\n",
      "  numbers.append(x)\n",
      "  if x % 2 == 0: x /= 2\n",
      "  else: x = 3 * x + 1\n",
      "\n",
      "Would you list to see the list again? (y/n): \n",
      "y\n",
      "\n",
      "Which answer would you like to see?  \n",
      "-----------------------------------\n",
      "1. List comprehensions in python\n",
      "2. Cross-list comprehension in Python\n",
      "3. List comprehension python\n",
      "4. Python list append\n",
      "5. Capture-and-yield in a list comprehension\n",
      "6. List comprehension with if-condition\n",
      "7. List Comprehension in Python\n",
      "8. List Comprehension Syntax\n",
      "9. Python list of lists\n",
      "-----------------------------------\n",
      "Input a number (1-9): \n"
     ]
    }
   ],
   "source": [
    "start_bot()"
   ]
  }
 ],
 "metadata": {
  "kernelspec": {
   "display_name": "Python [conda env:env]",
   "language": "python",
   "name": "conda-env-env-py"
  },
  "language_info": {
   "codemirror_mode": {
    "name": "ipython",
    "version": 3
   },
   "file_extension": ".py",
   "mimetype": "text/x-python",
   "name": "python",
   "nbconvert_exporter": "python",
   "pygments_lexer": "ipython3",
   "version": "3.6.6"
  }
 },
 "nbformat": 4,
 "nbformat_minor": 2
}
